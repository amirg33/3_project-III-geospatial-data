{
 "cells": [
  {
   "cell_type": "code",
   "execution_count": 1,
   "metadata": {},
   "outputs": [],
   "source": [
    "import os\n",
    "import requests\n",
    "import json\n",
    "import pandas as pd\n",
    "from pymongo import MongoClient\n",
    "from dotenv import load_dotenv\n",
    "from dotenv import load_dotenv\n",
    "load_dotenv()\n",
    "import gaming_companies"
   ]
  },
  {
   "cell_type": "code",
   "execution_count": 2,
   "metadata": {},
   "outputs": [],
   "source": [
    "# Connect DB Database\n",
    "token = os.getenv(\"token\")\n",
    "# Connect to MongoDB client\n",
    "client = MongoClient(\"localhost:27017\")\n",
    "client.list_database_names()\n",
    "db = client[\"Project_III\"]\n",
    "# Access the specified database and collection\n",
    "starbucks = db.get_collection(\"Starbucks\")"
   ]
  },
  {
   "cell_type": "code",
   "execution_count": 3,
   "metadata": {},
   "outputs": [
    {
     "data": {
      "text/plain": [
       "'\\ndef getCoordinates(address):\\n    url_geocode = f\"https://geocode.xyz/{address}?json=1\"\\n    res = requests.get(url_geocode)\\n    try:\\n        return res.json()\\n    except:\\n        time.sleep(4)\\n        getCoordinates(address)\\n\\nres = getCoordinates(\"San Francisco\")\\nres\\n\\nlat, lon = res[\"alt\"][\"loc\"][\"latt\"], res[\"alt\"][\"loc\"][\"longt\"]\\nmap_SF = Map(location = [lat, lon], zoom_start = 12)\\nmap_SF\\n'"
      ]
     },
     "execution_count": 3,
     "metadata": {},
     "output_type": "execute_result"
    }
   ],
   "source": [
    "\"\"\"\n",
    "def getCoordinates(address):\n",
    "    url_geocode = f\"https://geocode.xyz/{address}?json=1\"\n",
    "    res = requests.get(url_geocode)\n",
    "    try:\n",
    "        return res.json()\n",
    "    except:\n",
    "        time.sleep(4)\n",
    "        getCoordinates(address)\n",
    "\n",
    "res = getCoordinates(\"San Francisco\")\n",
    "res\n",
    "\n",
    "lat, lon = res[\"alt\"][\"loc\"][\"latt\"], res[\"alt\"][\"loc\"][\"longt\"]\n",
    "map_SF = Map(location = [lat, lon], zoom_start = 12)\n",
    "map_SF\n",
    "\"\"\""
   ]
  },
  {
   "cell_type": "code",
   "execution_count": 4,
   "metadata": {},
   "outputs": [],
   "source": [
    "# Geocoding: Converting a place name / address into geographic coordinates\n",
    "\n",
    "def url_geocode(where):\n",
    "    url_geocode = f\"https://geocode.xyz/{where}?json=1\"\n",
    "    response = requests.get(url_geocode)\n",
    "    return response.json()\n",
    "\n",
    "#In case you want to save the Starbucks data in MongoDB you will have to create a Databse called: Project_III and a Collection called: Starbucks\n",
    "def upload_collection(c_name, list_):\n",
    "    db = client.get_database(\"Project_III\")\n",
    "    c = db[c_name]\n",
    "    for item in list_:\n",
    "        c.insert_one(item)\n",
    "# Save downloaded infromation into a JSON and work locally\n",
    "def save_to_json(data, file_path):\n",
    "    with open(file_path, 'w', encoding='utf-8') as f:\n",
    "        json.dump(data, f, ensure_ascii=False, indent=4)"
   ]
  },
  {
   "cell_type": "code",
   "execution_count": 5,
   "metadata": {},
   "outputs": [],
   "source": [
    "# Retrieve the midpoint coordinates for San Francisco\n",
    "sf_lat, sf_lon, sf_radius = gaming_companies.midpoint_coordinates_radius_sf()\n",
    "# Retrieve the midpoint coordinates for New York\n",
    "ny_lat,nylon, ny_radius  = gaming_companies.midpoint_coordinates_radius_ny()\n",
    "# Retrieve the midpoint coordinates for London\n",
    "ldn_lat, ldn_lon, ld_radius = gaming_companies.midpoint_coordinates_radius_ldn()"
   ]
  },
  {
   "cell_type": "code",
   "execution_count": 6,
   "metadata": {},
   "outputs": [],
   "source": [
    "#Create a connection to Foursquare API in order to find out about what we have around a given radius\n",
    "\n",
    "def request_4sq(query, lat, lon, radius = 3700, sort_by = \"DISTANCE\", limit = 50):\n",
    "    url = f\"https://api.foursquare.com/v3/places/search?query={query}&ll={lat}%2C{lon}&radius={radius}&sort={sort_by}&limit={limit}\"\n",
    "    headers = {\"accept\": \"application/json\", \"Authorization\": token}\n",
    "    try:\n",
    "        return requests.get(url, headers = headers).json()\n",
    "    except:\n",
    "        print(\"Request not found\")"
   ]
  },
  {
   "cell_type": "code",
   "execution_count": 24,
   "metadata": {},
   "outputs": [],
   "source": [
    "def foursq_top3_cities_query(query,c_name):\n",
    "    request_sf = request_4sq(query, sf_lat, sf_lon, radius=int(sf_radius/ 4))\n",
    "    request_ny = request_4sq(query, ny_lat, nylon, radius=int(ny_radius/ 4))\n",
    "    request_ld = request_4sq(query, ldn_lat, ldn_lon, radius=int(ld_radius/ 4))\n",
    "    #In case you want to save the query data in MongoDB you will have to create a Databse called: Project_III and a Collection called: quer_name\n",
    "\n",
    "    list_of_query_sf = request_sf['results']  \n",
    "    upload_collection(c_name, list_=list_of_query_sf)\n",
    "    list_of_query_ny = request_ny['results']  \n",
    "    upload_collection(c_name, list_=list_of_query_ny)\n",
    "    list_of_query_ld = request_ld['results']  \n",
    "    upload_collection(c_name, list_=list_of_query_ld) \n",
    "    \n",
    "    \"\"\"\n",
    "    Counts the occurrences of documents in a specified MongoDB collection for each given city.\n",
    "    Args:\n",
    "    - collection_name: Name of the MongoDB collection.\n",
    "    - cities: List of cities to count occurrences in.\n",
    "    Returns:\n",
    "    - DataFrame with counts for each city.\n",
    "    \"\"\"\n",
    "    \n",
    "    client = MongoClient(\"localhost:27017\")\n",
    "    db = client[\"Project_III\"]\n",
    "    collection = db.get_collection(c_name)\n",
    "    cities = ['San Francisco', 'New York', 'London']\n",
    "\n",
    "    # Dictionary to store the counts for each city\n",
    "    city_counts = {city: 0 for city in cities}\n",
    "\n",
    "    # Query the collection and count the locations for each city\n",
    "    for city in cities:\n",
    "        count = collection.count_documents({\"location.locality\": city})\n",
    "        city_counts[city] = count\n",
    "\n",
    "    # Convert the dictionary to a DataFrame\n",
    "    return pd.DataFrame(list(city_counts.items()), columns=['City', f'{c_name} Count'])\n",
    "\n",
    "def weighted_count_merged_df():\n",
    "    df_Starbucks_count = foursq_top3_cities_query(query=\"Starbucks\",c_name=\"Starbucks\")\n",
    "    df_School_count = foursq_top3_cities_query(query=\"School\",c_name=\"Schools\")\n",
    "    df_Club_count = foursq_top3_cities_query(query=\"Club\",c_name=\"Club\")\n",
    "    df_Bar_count = foursq_top3_cities_query(query=\"Bar\",c_name=\"Bar\")\n",
    "    \n",
    "    #API has a limit of 50, so the redundancy of this infromation is low. As there could be a clear inner here. One thing is sure, London has less in the radius given\n",
    "    df_merged = df_School_count.merge(df_Starbucks_count, on='City')\n",
    "    df_merged = df_merged.merge(df_Club_count, on='City')\n",
    "    df_merged = df_merged.merge(df_Bar_count, on='City')\n",
    "\n",
    "    df_merged['Schools Count Normalized'] = df_merged['Schools Count'] / df_merged['Schools Count'].max()\n",
    "    df_merged['Starbucks Count Normalized'] = df_merged['Starbucks Count'] / df_merged['Starbucks Count'].max()\n",
    "    df_merged['Clubs Count Normalized'] = df_merged['Club Count'] / df_merged['Club Count'].max()\n",
    "    df_merged['Bars Count Normalized'] = df_merged['Bar Count'] / df_merged['Bar Count'].max()\n",
    "\n",
    "    # Apply weights\n",
    "    weights = {\n",
    "        'Schools': 0.20,\n",
    "        'Starbucks': 0.20,\n",
    "        'Clubs': 0.20,\n",
    "        'Bars': 0.40\n",
    "    }\n",
    "\n",
    "    df_merged['Weighted Score'] = (df_merged['Schools Count Normalized'] * weights['Schools'] +\n",
    "                                df_merged['Starbucks Count Normalized'] * weights['Starbucks'] +\n",
    "                                df_merged['Clubs Count Normalized'] * weights['Clubs'] +\n",
    "                                df_merged['Bars Count Normalized'] * weights['Bars'])\n",
    "\n",
    "    # Sort by the weighted score\n",
    "    return df_merged.sort_values(by='Weighted Score', ascending=False)\n"
   ]
  },
  {
   "cell_type": "code",
   "execution_count": 30,
   "metadata": {},
   "outputs": [
    {
     "ename": "NameError",
     "evalue": "name 'df_School_count' is not defined",
     "output_type": "error",
     "traceback": [
      "\u001b[1;31m---------------------------------------------------------------------------\u001b[0m",
      "\u001b[1;31mNameError\u001b[0m                                 Traceback (most recent call last)",
      "\u001b[1;32mc:\\Users\\amirg\\OneDrive\\Documents\\Iron hack\\1_Data Analysis_Oktober\\Projects\\3_project-III-geospatial-data\\src\\4sq.ipynb Cell 8\u001b[0m line \u001b[0;36m1\n\u001b[1;32m----> <a href='vscode-notebook-cell:/c%3A/Users/amirg/OneDrive/Documents/Iron%20hack/1_Data%20Analysis_Oktober/Projects/3_project-III-geospatial-data/src/4sq.ipynb#Y101sZmlsZQ%3D%3D?line=0'>1</a>\u001b[0m df_merged_weighted_score \u001b[39m=\u001b[39m weighted_count_merged_df()\n",
      "\u001b[1;32mc:\\Users\\amirg\\OneDrive\\Documents\\Iron hack\\1_Data Analysis_Oktober\\Projects\\3_project-III-geospatial-data\\src\\4sq.ipynb Cell 8\u001b[0m line \u001b[0;36m5\n\u001b[0;32m      <a href='vscode-notebook-cell:/c%3A/Users/amirg/OneDrive/Documents/Iron%20hack/1_Data%20Analysis_Oktober/Projects/3_project-III-geospatial-data/src/4sq.ipynb#Y101sZmlsZQ%3D%3D?line=0'>1</a>\u001b[0m \u001b[39mdef\u001b[39;00m \u001b[39mweighted_count_merged_df\u001b[39m():\n\u001b[0;32m      <a href='vscode-notebook-cell:/c%3A/Users/amirg/OneDrive/Documents/Iron%20hack/1_Data%20Analysis_Oktober/Projects/3_project-III-geospatial-data/src/4sq.ipynb#Y101sZmlsZQ%3D%3D?line=1'>2</a>\u001b[0m     \n\u001b[0;32m      <a href='vscode-notebook-cell:/c%3A/Users/amirg/OneDrive/Documents/Iron%20hack/1_Data%20Analysis_Oktober/Projects/3_project-III-geospatial-data/src/4sq.ipynb#Y101sZmlsZQ%3D%3D?line=2'>3</a>\u001b[0m     \n\u001b[0;32m      <a href='vscode-notebook-cell:/c%3A/Users/amirg/OneDrive/Documents/Iron%20hack/1_Data%20Analysis_Oktober/Projects/3_project-III-geospatial-data/src/4sq.ipynb#Y101sZmlsZQ%3D%3D?line=3'>4</a>\u001b[0m     \u001b[39m#API has a limit of 50, so the redundancy of this infromation is low. As there could be a clear inner here. One thing is sure, London has less in the radius given\u001b[39;00m\n\u001b[1;32m----> <a href='vscode-notebook-cell:/c%3A/Users/amirg/OneDrive/Documents/Iron%20hack/1_Data%20Analysis_Oktober/Projects/3_project-III-geospatial-data/src/4sq.ipynb#Y101sZmlsZQ%3D%3D?line=4'>5</a>\u001b[0m     df_merged \u001b[39m=\u001b[39m df_School_count\u001b[39m.\u001b[39mmerge(df_Starbucks_count, on\u001b[39m=\u001b[39m\u001b[39m'\u001b[39m\u001b[39mCity\u001b[39m\u001b[39m'\u001b[39m)\n\u001b[0;32m      <a href='vscode-notebook-cell:/c%3A/Users/amirg/OneDrive/Documents/Iron%20hack/1_Data%20Analysis_Oktober/Projects/3_project-III-geospatial-data/src/4sq.ipynb#Y101sZmlsZQ%3D%3D?line=5'>6</a>\u001b[0m     df_merged \u001b[39m=\u001b[39m df_merged\u001b[39m.\u001b[39mmerge(df_Club_count, on\u001b[39m=\u001b[39m\u001b[39m'\u001b[39m\u001b[39mCity\u001b[39m\u001b[39m'\u001b[39m)\n\u001b[0;32m      <a href='vscode-notebook-cell:/c%3A/Users/amirg/OneDrive/Documents/Iron%20hack/1_Data%20Analysis_Oktober/Projects/3_project-III-geospatial-data/src/4sq.ipynb#Y101sZmlsZQ%3D%3D?line=6'>7</a>\u001b[0m     df_merged \u001b[39m=\u001b[39m df_merged\u001b[39m.\u001b[39mmerge(df_Bar_count, on\u001b[39m=\u001b[39m\u001b[39m'\u001b[39m\u001b[39mCity\u001b[39m\u001b[39m'\u001b[39m)\n",
      "\u001b[1;31mNameError\u001b[0m: name 'df_School_count' is not defined"
     ]
    }
   ],
   "source": [
    "df_merged_weighted_score = weighted_count_merged_df()"
   ]
  },
  {
   "cell_type": "code",
   "execution_count": 29,
   "metadata": {},
   "outputs": [
    {
     "data": {
      "text/html": [
       "<div>\n",
       "<style scoped>\n",
       "    .dataframe tbody tr th:only-of-type {\n",
       "        vertical-align: middle;\n",
       "    }\n",
       "\n",
       "    .dataframe tbody tr th {\n",
       "        vertical-align: top;\n",
       "    }\n",
       "\n",
       "    .dataframe thead th {\n",
       "        text-align: right;\n",
       "    }\n",
       "</style>\n",
       "<table border=\"1\" class=\"dataframe\">\n",
       "  <thead>\n",
       "    <tr style=\"text-align: right;\">\n",
       "      <th></th>\n",
       "      <th>City</th>\n",
       "      <th>Schools Count</th>\n",
       "      <th>Starbucks Count</th>\n",
       "      <th>Club Count</th>\n",
       "      <th>Bar Count</th>\n",
       "      <th>Schools Count Normalized</th>\n",
       "      <th>Starbucks Count Normalized</th>\n",
       "      <th>Clubs Count Normalized</th>\n",
       "      <th>Bars Count Normalized</th>\n",
       "      <th>Weighted Score</th>\n",
       "    </tr>\n",
       "  </thead>\n",
       "  <tbody>\n",
       "    <tr>\n",
       "      <th>1</th>\n",
       "      <td>New York</td>\n",
       "      <td>53</td>\n",
       "      <td>4</td>\n",
       "      <td>50</td>\n",
       "      <td>50</td>\n",
       "      <td>1.000000</td>\n",
       "      <td>1.00</td>\n",
       "      <td>1.00</td>\n",
       "      <td>1.00</td>\n",
       "      <td>1.000000</td>\n",
       "    </tr>\n",
       "    <tr>\n",
       "      <th>0</th>\n",
       "      <td>San Francisco</td>\n",
       "      <td>50</td>\n",
       "      <td>1</td>\n",
       "      <td>28</td>\n",
       "      <td>50</td>\n",
       "      <td>0.943396</td>\n",
       "      <td>0.25</td>\n",
       "      <td>0.56</td>\n",
       "      <td>1.00</td>\n",
       "      <td>0.750679</td>\n",
       "    </tr>\n",
       "    <tr>\n",
       "      <th>2</th>\n",
       "      <td>London</td>\n",
       "      <td>38</td>\n",
       "      <td>3</td>\n",
       "      <td>12</td>\n",
       "      <td>34</td>\n",
       "      <td>0.716981</td>\n",
       "      <td>0.75</td>\n",
       "      <td>0.24</td>\n",
       "      <td>0.68</td>\n",
       "      <td>0.613396</td>\n",
       "    </tr>\n",
       "  </tbody>\n",
       "</table>\n",
       "</div>"
      ],
      "text/plain": [
       "            City  Schools Count  Starbucks Count  Club Count  Bar Count  \\\n",
       "1       New York             53                4          50         50   \n",
       "0  San Francisco             50                1          28         50   \n",
       "2         London             38                3          12         34   \n",
       "\n",
       "   Schools Count Normalized  Starbucks Count Normalized  \\\n",
       "1                  1.000000                        1.00   \n",
       "0                  0.943396                        0.25   \n",
       "2                  0.716981                        0.75   \n",
       "\n",
       "   Clubs Count Normalized  Bars Count Normalized  Weighted Score  \n",
       "1                    1.00                   1.00        1.000000  \n",
       "0                    0.56                   1.00        0.750679  \n",
       "2                    0.24                   0.68        0.613396  "
      ]
     },
     "execution_count": 29,
     "metadata": {},
     "output_type": "execute_result"
    }
   ],
   "source": [
    "df_merged_weighted_score"
   ]
  },
  {
   "cell_type": "code",
   "execution_count": null,
   "metadata": {},
   "outputs": [],
   "source": []
  },
  {
   "cell_type": "code",
   "execution_count": null,
   "metadata": {},
   "outputs": [],
   "source": []
  }
 ],
 "metadata": {
  "kernelspec": {
   "display_name": "ironhack",
   "language": "python",
   "name": "python3"
  },
  "language_info": {
   "codemirror_mode": {
    "name": "ipython",
    "version": 3
   },
   "file_extension": ".py",
   "mimetype": "text/x-python",
   "name": "python",
   "nbconvert_exporter": "python",
   "pygments_lexer": "ipython3",
   "version": "3.12.0"
  }
 },
 "nbformat": 4,
 "nbformat_minor": 2
}
